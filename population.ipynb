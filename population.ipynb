{
 "cells": [
  {
   "cell_type": "markdown",
   "source": [
    "# Population Data\n",
    "Dataset downloaded on 05/04/2022 from:\n",
    "https://www.nrscotland.gov.uk/statistics-and-data/statistics/stats-at-a-glance/council-area-profiles\n",
    "\n",
    "Councils and NHS boards matched on 06/04/2022 using information from:\n",
    "https://en.wikipedia.org/wiki/NHS_Scotland\n",
    "\n",
    "# Ethical/privacy issues\n",
    "All information used is publicly available and the NRS is an official department of the Scottish government that provides datasets for research purposes."
   ],
   "metadata": {
    "collapsed": false
   }
  },
  {
   "cell_type": "markdown",
   "source": [],
   "metadata": {
    "collapsed": false
   }
  },
  {
   "cell_type": "code",
   "execution_count": 61,
   "metadata": {
    "collapsed": true
   },
   "outputs": [],
   "source": [
    "import matplotlib.pyplot as plt\n",
    "import seaborn as sns\n",
    "import pandas as pd\n",
    "import os"
   ]
  },
  {
   "cell_type": "code",
   "execution_count": 62,
   "outputs": [
    {
     "data": {
      "text/plain": "    Council area  Year     Sex  Age  Population  Unnamed: 5  Unnamed: 6  \\\n0  Aberdeen City  1998  Female    0        1078         NaN         NaN   \n1  Aberdeen City  1998  Female    1        1052         NaN         NaN   \n2  Aberdeen City  1998  Female    2        1034         NaN         NaN   \n3  Aberdeen City  1998  Female    3        1123         NaN         NaN   \n4  Aberdeen City  1998  Female    4        1143         NaN         NaN   \n\n   Unnamed: 7  Unnamed: 8  Unnamed: 9  ...  Unnamed: 1015  Unnamed: 1016  \\\n0         NaN         NaN         NaN  ...            NaN            NaN   \n1         NaN         NaN         NaN  ...            NaN            NaN   \n2         NaN         NaN         NaN  ...            NaN            NaN   \n3         NaN         NaN         NaN  ...            NaN            NaN   \n4         NaN         NaN         NaN  ...            NaN            NaN   \n\n   Unnamed: 1017  Unnamed: 1018  Unnamed: 1019  Unnamed: 1020  Unnamed: 1021  \\\n0            NaN            NaN            NaN            NaN            NaN   \n1            NaN            NaN            NaN            NaN            NaN   \n2            NaN            NaN            NaN            NaN            NaN   \n3            NaN            NaN            NaN            NaN            NaN   \n4            NaN            NaN            NaN            NaN            NaN   \n\n   Unnamed: 1022  Unnamed: 1023  Unnamed: 1024  \n0            NaN            NaN            NaN  \n1            NaN            NaN            NaN  \n2            NaN            NaN            NaN  \n3            NaN            NaN            NaN  \n4            NaN            NaN            NaN  \n\n[5 rows x 1025 columns]",
      "text/html": "<div>\n<style scoped>\n    .dataframe tbody tr th:only-of-type {\n        vertical-align: middle;\n    }\n\n    .dataframe tbody tr th {\n        vertical-align: top;\n    }\n\n    .dataframe thead th {\n        text-align: right;\n    }\n</style>\n<table border=\"1\" class=\"dataframe\">\n  <thead>\n    <tr style=\"text-align: right;\">\n      <th></th>\n      <th>Council area</th>\n      <th>Year</th>\n      <th>Sex</th>\n      <th>Age</th>\n      <th>Population</th>\n      <th>Unnamed: 5</th>\n      <th>Unnamed: 6</th>\n      <th>Unnamed: 7</th>\n      <th>Unnamed: 8</th>\n      <th>Unnamed: 9</th>\n      <th>...</th>\n      <th>Unnamed: 1015</th>\n      <th>Unnamed: 1016</th>\n      <th>Unnamed: 1017</th>\n      <th>Unnamed: 1018</th>\n      <th>Unnamed: 1019</th>\n      <th>Unnamed: 1020</th>\n      <th>Unnamed: 1021</th>\n      <th>Unnamed: 1022</th>\n      <th>Unnamed: 1023</th>\n      <th>Unnamed: 1024</th>\n    </tr>\n  </thead>\n  <tbody>\n    <tr>\n      <th>0</th>\n      <td>Aberdeen City</td>\n      <td>1998</td>\n      <td>Female</td>\n      <td>0</td>\n      <td>1078</td>\n      <td>NaN</td>\n      <td>NaN</td>\n      <td>NaN</td>\n      <td>NaN</td>\n      <td>NaN</td>\n      <td>...</td>\n      <td>NaN</td>\n      <td>NaN</td>\n      <td>NaN</td>\n      <td>NaN</td>\n      <td>NaN</td>\n      <td>NaN</td>\n      <td>NaN</td>\n      <td>NaN</td>\n      <td>NaN</td>\n      <td>NaN</td>\n    </tr>\n    <tr>\n      <th>1</th>\n      <td>Aberdeen City</td>\n      <td>1998</td>\n      <td>Female</td>\n      <td>1</td>\n      <td>1052</td>\n      <td>NaN</td>\n      <td>NaN</td>\n      <td>NaN</td>\n      <td>NaN</td>\n      <td>NaN</td>\n      <td>...</td>\n      <td>NaN</td>\n      <td>NaN</td>\n      <td>NaN</td>\n      <td>NaN</td>\n      <td>NaN</td>\n      <td>NaN</td>\n      <td>NaN</td>\n      <td>NaN</td>\n      <td>NaN</td>\n      <td>NaN</td>\n    </tr>\n    <tr>\n      <th>2</th>\n      <td>Aberdeen City</td>\n      <td>1998</td>\n      <td>Female</td>\n      <td>2</td>\n      <td>1034</td>\n      <td>NaN</td>\n      <td>NaN</td>\n      <td>NaN</td>\n      <td>NaN</td>\n      <td>NaN</td>\n      <td>...</td>\n      <td>NaN</td>\n      <td>NaN</td>\n      <td>NaN</td>\n      <td>NaN</td>\n      <td>NaN</td>\n      <td>NaN</td>\n      <td>NaN</td>\n      <td>NaN</td>\n      <td>NaN</td>\n      <td>NaN</td>\n    </tr>\n    <tr>\n      <th>3</th>\n      <td>Aberdeen City</td>\n      <td>1998</td>\n      <td>Female</td>\n      <td>3</td>\n      <td>1123</td>\n      <td>NaN</td>\n      <td>NaN</td>\n      <td>NaN</td>\n      <td>NaN</td>\n      <td>NaN</td>\n      <td>...</td>\n      <td>NaN</td>\n      <td>NaN</td>\n      <td>NaN</td>\n      <td>NaN</td>\n      <td>NaN</td>\n      <td>NaN</td>\n      <td>NaN</td>\n      <td>NaN</td>\n      <td>NaN</td>\n      <td>NaN</td>\n    </tr>\n    <tr>\n      <th>4</th>\n      <td>Aberdeen City</td>\n      <td>1998</td>\n      <td>Female</td>\n      <td>4</td>\n      <td>1143</td>\n      <td>NaN</td>\n      <td>NaN</td>\n      <td>NaN</td>\n      <td>NaN</td>\n      <td>NaN</td>\n      <td>...</td>\n      <td>NaN</td>\n      <td>NaN</td>\n      <td>NaN</td>\n      <td>NaN</td>\n      <td>NaN</td>\n      <td>NaN</td>\n      <td>NaN</td>\n      <td>NaN</td>\n      <td>NaN</td>\n      <td>NaN</td>\n    </tr>\n  </tbody>\n</table>\n<p>5 rows × 1025 columns</p>\n</div>"
     },
     "execution_count": 62,
     "metadata": {},
     "output_type": "execute_result"
    }
   ],
   "source": [
    "population_raw = pd.read_csv(os.path.join(os.getcwd(), 'data', \"council-area-profiles-dataset-with-copyright_population-estimates.csv\"))\n",
    "population_raw.head()"
   ],
   "metadata": {
    "collapsed": false
   }
  },
  {
   "cell_type": "code",
   "execution_count": 63,
   "outputs": [],
   "source": [
    "population_raw = population_raw[['Council area','Year','Sex','Age','Population']]\n",
    "population = population_raw.groupby(['Council area','Year']).sum().reset_index().drop(columns=['Age'])\n",
    "population.drop(population[population[\"Council area\"] == \"Scotland\"].index, inplace=True)"
   ],
   "metadata": {
    "collapsed": false
   }
  },
  {
   "cell_type": "code",
   "execution_count": 64,
   "outputs": [],
   "source": [
    "convert={\"NHS Ayrshire and Arran\":[\"East Ayrshire\", \"North Ayrshire\", \"South Ayrshire\"],\n",
    "         \"NHS Borders\":[\"Scottish Borders\"],\n",
    "         \"NHS Dumfries and Galloway\":[\"Dumfries and Galloway\"],\n",
    "         \"NHS Western Isles\":[\"Na h-Eileanan Siar\"],\n",
    "         \"NHS Fife\":[\"Fife\"],\n",
    "         \"NHS Forth Valley\":[\"Clackmannanshire\", \"Falkirk\", \"Stirling\"],\n",
    "         \"NHS Grampian\":[\"Aberdeenshire\", \"Aberdeen City\", \"Moray\"],\n",
    "         \"NHS Greater Glasgow and Clyde\":[\"Glasgow City\", \"East Dunbartonshire\", \"East Renfrewshire\", \"Inverclyde\", \"Renfrewshire\", \"West Dunbartonshire\"],\n",
    "         \"NHS Highland\":[\"Highland\", \"Argyll and Bute\"],\n",
    "         \"NHS Lanarkshire\":[\"North Lanarkshire\", \"South Lanarkshire\"],\n",
    "         \"NHS Lothian\":[\"City of Edinburgh\", \"East Lothian\", \"Midlothian\", \"West Lothian\"],\n",
    "         \"NHS Orkney\":[\"Orkney Islands\"],\n",
    "         \"NHS Shetland\":[\"Shetland Islands\"],\n",
    "         \"NHS Tayside\":[\"Angus\", \"Dundee City\", \"Perth and Kinross\"]}"
   ],
   "metadata": {
    "collapsed": false
   }
  },
  {
   "cell_type": "code",
   "execution_count": 65,
   "outputs": [
    {
     "name": "stdout",
     "output_type": "stream",
     "text": [
      "['Aberdeen City' 'Aberdeenshire' 'Angus' 'Argyll and Bute'\n",
      " 'City of Edinburgh' 'Clackmannanshire' 'Dumfries and Galloway'\n",
      " 'Dundee City' 'East Ayrshire' 'East Dunbartonshire' 'East Lothian'\n",
      " 'East Renfrewshire' 'Falkirk' 'Fife' 'Glasgow City' 'Highland'\n",
      " 'Inverclyde' 'Midlothian' 'Moray' 'Na h-Eileanan Siar' 'North Ayrshire'\n",
      " 'North Lanarkshire' 'Orkney Islands' 'Perth and Kinross' 'Renfrewshire'\n",
      " 'Scottish Borders' 'Shetland Islands' 'South Ayrshire'\n",
      " 'South Lanarkshire' 'Stirling' 'West Dunbartonshire' 'West Lothian']\n",
      "['NHS Grampian' 'NHS Tayside' 'NHS Highland' 'NHS Lothian'\n",
      " 'NHS Forth Valley' 'NHS Dumfries and Galloway' 'NHS Ayrshire and Arran'\n",
      " 'NHS Greater Glasgow and Clyde' 'NHS Fife' 'NHS Western Isles'\n",
      " 'NHS Lanarkshire' 'NHS Orkney' 'NHS Borders' 'NHS Shetland']\n"
     ]
    }
   ],
   "source": [
    "print(population[\"Council area\"].unique() )\n",
    "for row in range(population.shape[0]):\n",
    "    for key in convert:\n",
    "        #print(key)\n",
    "        #print(population.iat[row,0])\n",
    "        #print(convert[key])\n",
    "        #print(convert[key].count(population.iat[row,0]))\n",
    "        if convert[key].count(population.iat[row,0])>0:\n",
    "            population.iat[row,0]=key\n",
    "            break\n",
    "print(population['Council area'].unique())"
   ],
   "metadata": {
    "collapsed": false
   }
  },
  {
   "cell_type": "code",
   "execution_count": 66,
   "outputs": [],
   "source": [
    "population.to_csv(os.path.join(os.getcwd(),'data','population.csv'),index=False)"
   ],
   "metadata": {
    "collapsed": false
   }
  },
  {
   "cell_type": "markdown",
   "source": [],
   "metadata": {
    "collapsed": false
   }
  },
  {
   "cell_type": "markdown",
   "source": [],
   "metadata": {
    "collapsed": false
   }
  }
 ],
 "metadata": {
  "kernelspec": {
   "display_name": "Python 3",
   "language": "python",
   "name": "python3"
  },
  "language_info": {
   "codemirror_mode": {
    "name": "ipython",
    "version": 2
   },
   "file_extension": ".py",
   "mimetype": "text/x-python",
   "name": "python",
   "nbconvert_exporter": "python",
   "pygments_lexer": "ipython2",
   "version": "2.7.6"
  }
 },
 "nbformat": 4,
 "nbformat_minor": 0
}
